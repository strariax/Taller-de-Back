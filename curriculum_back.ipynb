{
 "cells": [
  {
   "cell_type": "markdown",
   "metadata": {},
   "source": [
    "# Introducción al Backend"
   ]
  },
  {
   "cell_type": "markdown",
   "metadata": {},
   "source": [
    "En el mundo del desarrollo web, la estructura de cualquier aplicación o sitio web se puede dividir en dos partes principales: el frontend y el backend.\n",
    "\n",
    "Mientras que el frontend es todo lo que los usuarios ven y con lo que interactúan directamente en sus navegadores (como las páginas web y las interfaces de usuario), el backend es la parte que opera detrás. \n",
    "\n",
    "El backend es el cerebro de la aplicación, encargado de gestionar la lógica de negocio, el almacenamiento de datos y la seguridad, entre otros aspectos."
   ]
  },
  {
   "cell_type": "markdown",
   "metadata": {},
   "source": [
    "## Presentación de Flask"
   ]
  },
  {
   "cell_type": "markdown",
   "metadata": {},
   "source": [
    "Para nuestro proyecto, vamos a utilizar Flask, que es un microframework para Python. "
   ]
  },
  {
   "cell_type": "markdown",
   "metadata": {},
   "source": [
    "Un framework es un conjunto de\n",
    "\n",
    "🔸Herramientas: Funciones para manejar solicitudes HTTP Protocolo de Transferencia de Hipertexto (HyperText Transfer Protocol en inglés), es el protocolo fundamental que se utiliza para la transferencia de datos en la web, sesiones de usuario, o conexiones a bases de datos.\n",
    "\n",
    "🔸Bibliotecas: Colecciones de código preescrito que los desarrolladores pueden utilizar para realizar tareas específicas sin tener que escribir el código desde cero.\n",
    "\n",
    "🔸Pautas predefinidas: Incluyen convenciones sobre cómo nombrar y organizar archivos en el proyecto, cómo estructurar el código, y cómo realizar ciertas tareas dentro del marco del framework."
   ]
  },
  {
   "cell_type": "markdown",
   "metadata": {},
   "source": [
    "Flask es una herramienta que utilizan los programadores para crear sitios web. Imagina que quieres construir una casa; en lugar de fabricar cada ladrillo desde cero, podrías comprar ladrillos ya hechos y concentrarte en diseñar y construir la casa. Flask funciona de manera similar para los sitios web: ofrece componentes prefabricados que facilitan la creación de páginas web sin necesidad de empezar desde cero."
   ]
  },
  {
   "cell_type": "markdown",
   "metadata": {},
   "source": [
    "## Presentación de SQLAlchemy"
   ]
  },
  {
   "cell_type": "markdown",
   "metadata": {},
   "source": [
    "Para manejar las operaciones de la base de datos, utilizaremos SQLAlchemy, que es un ORM (Object-Relational Mapper) para Python.\n",
    "\n",
    "Un ORM sirve como un puente o traductor entre la base de datos y el lenguaje de programación.. Te permite trabajar con la base de datos utilizando los mismos conceptos y estructuras que usas en tu código, como clases, objetos y métodos, en lugar de escribir consultas SQL directas.\n",
    "\n",
    "SQLAlchemy nos permite trabajar con bases de datos de manera más intuitiva, tratando las tablas de la base de datos como clases de Python, lo que facilita la manipulación de los datos."
   ]
  },
  {
   "cell_type": "markdown",
   "metadata": {},
   "source": [
    "## Flask y SQLAlchemy"
   ]
  },
  {
   "cell_type": "markdown",
   "metadata": {},
   "source": [
    "Flask manejará las solicitudes y respuestas HTTP, la lógica de la aplicación y la presentación, mientras que SQLAlchemy gestionará todas las interacciones con la base de datos"
   ]
  },
  {
   "cell_type": "markdown",
   "metadata": {},
   "source": [
    "## Presentación de SQLite"
   ]
  },
  {
   "cell_type": "markdown",
   "metadata": {},
   "source": [
    "Utilizaremos SQLite para almacenar y gestionar los datos de la aplicación. SQLAlchemy, como intermediario, nos permitirá manipular esta información de manera segura y eficiente, utilizando código Python que interactúa con objetos y métodos, en lugar de comandos SQL directos."
   ]
  },
  {
   "cell_type": "markdown",
   "metadata": {},
   "source": [
    "## Conclusión"
   ]
  },
  {
   "cell_type": "markdown",
   "metadata": {},
   "source": [
    "🔸SQLite almacena los datos\n",
    "\n",
    "🔸SQLAlchemy se comunica con la base de datos\n",
    "\n",
    "🔸Flask maneja las solicitudes y respuestas del usuario. "
   ]
  },
  {
   "cell_type": "markdown",
   "metadata": {},
   "source": [
    "____________________________________________________________________________________________________________________________________________________________"
   ]
  },
  {
   "cell_type": "markdown",
   "metadata": {},
   "source": [
    "## Entorno Virtual"
   ]
  },
  {
   "cell_type": "markdown",
   "metadata": {},
   "source": [
    "Tengo que destacar la importancia de crear un entorno virtual para cada uno de nuestros proyectos. Un entorno virtual es como tener un espacio de trabajo personalizado y aislado donde podemos gestionar todas las herramientas y bibliotecas específicas que nuestro proyecto necesita, sin interferir con el sistema general ni con otros proyectos."
   ]
  },
  {
   "cell_type": "markdown",
   "metadata": {},
   "source": [
    "Para asegurar que nuestro entorno de desarrollo sea limpio y organizado, crearemos un entorno virtual específico para nuestro proyecto Flask. "
   ]
  },
  {
   "cell_type": "markdown",
   "metadata": {},
   "source": [
    "Ir a: https://flask.palletsprojects.com/en/3.0.x/installation/\n",
    "\n",
    "Crear el entorno virtual\n",
    "\n",
    "🔸Mac/Linux:  python3 -m venv .venv\n",
    "\n",
    "🔸Windows: py -3 -m venv .venv\n",
    "\n",
    "Activar el entorno virtual\n",
    "\n",
    "🔸Mac/Linux:  . .venv/bin/activate\n",
    "\n",
    "🔸Windows: .venv\\Scripts\\activate"
   ]
  },
  {
   "cell_type": "markdown",
   "metadata": {},
   "source": [
    "## Instalar Flask"
   ]
  },
  {
   "cell_type": "markdown",
   "metadata": {},
   "source": [
    "Para instalar paquetes, simplemente activamos el entorno virtual y utilizamos el gestor de paquetes pip, que es el instalador de paquetes estándar para Python.\n",
    "\n",
    "Por ejemplo, para instalar Flask dentro de nuestro entorno virtual sería pip install flask. "
   ]
  },
  {
   "cell_type": "markdown",
   "metadata": {},
   "source": [
    "____________________________________________________________________________________________________________________________________________________________"
   ]
  },
  {
   "cell_type": "markdown",
   "metadata": {},
   "source": [
    "## Models.py"
   ]
  },
  {
   "cell_type": "markdown",
   "metadata": {},
   "source": [
    "El siguiente paso es crear el archivo models.py, que será fundamental para definir las estructuras de nuestra base de datos en forma de tablas. Para esto, necesitaremos hacer uso de una extensión muy útil llamada Flask-SQLAlchemy."
   ]
  },
  {
   "cell_type": "markdown",
   "metadata": {},
   "source": [
    "## Presentación de Flask SQLAlchemy"
   ]
  },
  {
   "cell_type": "markdown",
   "metadata": {},
   "source": [
    "Flask-SQLAlchemy es una extensión para Flask que simplifica la utilización del ORM SQLAlchemy con aplicaciones Flask. "
   ]
  },
  {
   "cell_type": "markdown",
   "metadata": {},
   "source": [
    "Nos permite definir el modelo o base de datos utilizando clases de Python. Cada clase definida en models.py corresponde a una tabla en tu base de datos, y los atributos de la clase se vinculan a las columnas de la tabla."
   ]
  },
  {
   "cell_type": "markdown",
   "metadata": {},
   "source": [
    "## Instalar Flask SQLAlchemy"
   ]
  },
  {
   "cell_type": "markdown",
   "metadata": {},
   "source": [
    "Para comenzar a usar Flask-SQLAlchemy, primero debemos instalarlo.\n",
    "\n",
    "Ejecutamos el comando: pip install flask_sqlalchemy"
   ]
  },
  {
   "cell_type": "markdown",
   "metadata": {},
   "source": [
    "Una vez instalado, podremos importar SQLAlchemy desde flask_sqlalchemy en nuestro archivo models.py, y comenzar a definir nuestros modelos. "
   ]
  },
  {
   "cell_type": "markdown",
   "metadata": {},
   "source": [
    "🔸from `flask_sqlalchemy` import `SQLAlchemy` -> Se utiliza para importar el módulo SQLAlchemy proporcionado por la extensión Flask-SQLAlchemy"
   ]
  },
  {
   "cell_type": "markdown",
   "metadata": {},
   "source": [
    "Cuando decimos \"importar SQLAlchemy desde flask_sqlalchemy\", estamos refiriéndonos al acto de incluir una versión específica de SQLAlchemy que ha sido adaptada y envuelta por la extensión Flask-SQLAlchemy. "
   ]
  },
  {
   "cell_type": "markdown",
   "metadata": {},
   "source": [
    "flask_sqlalchemy toma la funcionalidad original de SQLAlchemy y la presenta en un formato que encaja mejor con cómo Flask maneja las aplicaciones web"
   ]
  },
  {
   "cell_type": "markdown",
   "metadata": {},
   "source": [
    "## Inicialización de SQLAlchemy"
   ]
  },
  {
   "cell_type": "markdown",
   "metadata": {},
   "source": [
    "🔸`db = SQLALchemy()` -> “db” se convierte en un objeto que te permite interactuar con bases de datos en tu aplicación Flask utilizando SQLAlchemy"
   ]
  },
  {
   "cell_type": "markdown",
   "metadata": {},
   "source": [
    "Esta línea crea una instancia (objeto) de SQLAlchemy, que es esencialmente el núcleo que maneja todas las interacciones entre tu aplicación Flask y la base de datos. A través de db, puedes definir modelos, realizar consultas, y gestionar la base de datos."
   ]
  },
  {
   "cell_type": "markdown",
   "metadata": {},
   "source": [
    "Para representar o crear una tabla en la base de datos, usamos clases. Cada atributo de la clase se mapea a una columna en la tabla de la base de datos."
   ]
  },
  {
   "cell_type": "markdown",
   "metadata": {},
   "source": [
    "`class Usuarios(db.Model):` -> db.Model: indica que Usuarios es un modelo de datos gestionado por SQLAlchemy"
   ]
  },
  {
   "cell_type": "markdown",
   "metadata": {},
   "source": [
    "## Importancia del db.Model"
   ]
  },
  {
   "cell_type": "markdown",
   "metadata": {},
   "source": [
    "Esta es una clase base en Flask-SQLAlchemy de la cual todos los modelos de tus tablas deben heredar. Esta clase base contiene toda la funcionalidad necesaria para que los modelos interactúen con la base de datos a través de SQLAlchemy. Esto incluye la capacidad para crear consultas, guardar cambios y más."
   ]
  },
  {
   "cell_type": "markdown",
   "metadata": {},
   "source": [
    "## Atributos de Clase"
   ]
  },
  {
   "cell_type": "markdown",
   "metadata": {},
   "source": [
    "id = db.Column(db.Integer, primary_key=True)\n",
    "\n",
    "🔸db.Column es la manera de definir una columna en una tabla en la base de datos.\n",
    "\n",
    "🔸db.Integer es un tipo de dato que especifica que los datos almacenados en la columna deben ser enteros\n",
    "\n",
    "🔸nullable=False es una propiedad que se puede asignar a una columna para indicar que no puede contener valores nulos\n",
    "\n",
    "🔸 Una clave primaria es una columna o un conjunto de columnas que identifica de manera única cada fila en una tabla.\n",
    "\n",
    "Para Notas():\n",
    "\n",
    "🔸usuario_id = db.Column(db.Integer, db.ForeignKey('usuarios.id'), nullable=False)\n",
    "\n",
    "Usamos usuario_id como \"clave foránea\", esto quiere decir que es un dato que está migrando desde otra tabla, esto lo hacemos para poder vincular las notas con el id del usuario, y así poder recuperar todas las notas de un usuario específico simplemente buscando por usuario_id."
   ]
  },
  {
   "cell_type": "markdown",
   "metadata": {},
   "source": [
    "En SQLAlchemy, cuando defines atributos de clase usando db.Column dentro de una clase que hereda de db.Model, estás creando definiciones que describen cómo SQLAlchemy debe estructurar la tabla en la base de datos.\n",
    "\n",
    "No almacenan datos individuales del objeto en sí; más bien, especifican el tipo de columna, si puede ser nula, si es una clave primaria, entre otras propiedades. "
   ]
  },
  {
   "cell_type": "markdown",
   "metadata": {},
   "source": [
    "## Atributos de Instancia"
   ]
  },
  {
   "cell_type": "markdown",
   "metadata": {},
   "source": [
    "def __init__(self, nombre, apellido, cedula):\n",
    "    self.nombre = nombre\n",
    "    self.apellido = apellido\n",
    "    self.cedula = cedula "
   ]
  },
  {
   "cell_type": "markdown",
   "metadata": {},
   "source": [
    "Estos atributos de instancia llevan los datos específicos de cada objeto creado a partir de la clase Alumnos. Los atributos de instancia no son parte de la definición de la estructura de la base de datos, sino que contienen los datos reales que se ingresan y se recuperan de la base de datos"
   ]
  },
  {
   "cell_type": "markdown",
   "metadata": {},
   "source": [
    "## Conclusión"
   ]
  },
  {
   "cell_type": "markdown",
   "metadata": {},
   "source": [
    "Los atributos de clase definen \"qué\" datos se guardarán (estructura, tipo, restricciones), mientras que los atributos de instancia contienen \"los datos específicos\" que esos campos almacenan."
   ]
  },
  {
   "cell_type": "markdown",
   "metadata": {},
   "source": [
    "____________________________________________________________________________________________________________________________________________________________"
   ]
  },
  {
   "cell_type": "markdown",
   "metadata": {},
   "source": [
    "## Conexion.py"
   ]
  },
  {
   "cell_type": "markdown",
   "metadata": {},
   "source": [
    "Una vez definido nuestro modelo de base de datos en models.py, el siguiente paso en la construcción de nuestra aplicación es configurar cómo nuestra aplicación Flask interactuará con la base de datos. Para esto, creamos el archivo conexion.py. Este archivo es necesario para establecer la conexión entre nuestra aplicación Flask y nuestra base de datos utilizando SQLAlchemy. "
   ]
  },
  {
   "cell_type": "markdown",
   "metadata": {},
   "source": [
    "## Importaciones necesarias"
   ]
  },
  {
   "cell_type": "markdown",
   "metadata": {},
   "source": [
    "Para comenzar, necesitamos importar las bibliotecas y módulos necesarios."
   ]
  },
  {
   "cell_type": "markdown",
   "metadata": {},
   "source": [
    "🔸from flask import Flask ->  Importamos Flask para crear y manejar la aplicación web\n",
    "🔸from models import db -> Importamos db para interactuar con los modelos de la base de datos definidos."
   ]
  },
  {
   "cell_type": "markdown",
   "metadata": {},
   "source": [
    "Creamos una instancia de Flask, que actuará como el núcleo de nuestra aplicación web. \n",
    "\n",
    "🔸app = Flask(__name__)\n",
    "\n",
    "Esta instancia representa nuestra aplicación web, es el núcleo central donde se configura todo el entorno de la aplicación, se manejan las rutas, y se procesan las solicitudes entrantes."
   ]
  },
  {
   "cell_type": "markdown",
   "metadata": {},
   "source": [
    "## Explicando __name__ "
   ]
  },
  {
   "cell_type": "markdown",
   "metadata": {},
   "source": [
    "__name__ es una variable especial en Python que tiene un valor que depende de cómo se está ejecutando el script  (un archivo .py) en el que se utiliza. Si el script se ejecuta directamente (es decir, no se importa desde otro módulo), __name__ se establece en \"__main__\". Si el script se importa desde otro módulo, __name__ se establece en el nombre del módulo. Esto nos permite realizar ciertas acciones dependiendo de si nuestro archivo es el principal. Además de permitir que Flask sepa dónde buscar recursos como plantillas y archivos estáticos, y cómo mapear rutas relativas."
   ]
  },
  {
   "cell_type": "markdown",
   "metadata": {},
   "source": [
    "## Configuración de la Base de datos"
   ]
  },
  {
   "cell_type": "markdown",
   "metadata": {},
   "source": [
    "Especificamos la ubicación de nuestra base de datos a través de la configuración SQLALCHEMY_DATABASE_URI. Esto le dice a SQLAlchemy dónde se encuentra la base de datos que nuestra aplicación debe usar.\n",
    "\n",
    "🔸app.config[\"SQLALCHEMY_DATABASE_URI\"] = \"sqlite:///mis_notas.db\"\n",
    "\n",
    "Cuando creas una instancia de la aplicación Flask usando app = Flask(__name__), Flask automáticamente crea el objeto app.config, que puede ser usado para configurar la aplicación.\n",
    "\n",
    "En este caso, estamos usando SQLite y guardamos nuestra base de datos en un archivo llamado mis_notas.db.\n",
    "\n",
    "'''\n",
    "El término `SQLALCHEMY_DATABASE_URI` es una configuración específica utilizada en aplicaciones Flask que trabajan con el ORM SQLAlchemy. Esta configuración define la URI (Uniform Resource Identifier) de la base de datos que SQLAlchemy utilizará para conectarse a ella. \n",
    "\n",
    "`URI` es un estándar que se utiliza para identificar recursos en la red o en un entorno informático. \n",
    "'''"
   ]
  },
  {
   "cell_type": "markdown",
   "metadata": {},
   "source": [
    "## Inicializamos SQLAlchemy con nuestra aplicación Flask"
   ]
  },
  {
   "cell_type": "markdown",
   "metadata": {},
   "source": [
    "En models.py habíamos creado un objeto \"db\" que nos permite interactuar con bases de datos \n",
    "\n",
    "Entonces, tenemos un objeto que nos permite interactuar con la base de datos y otro objeto que dijimos que actuaba como el núcleo de nuestra aplicación, que es el objeto app\n",
    "\n",
    "Tenemos un método proporcionado por la extensión Flask-SQLAlchemy que se utiliza para inicializar la aplicación Flask con la configuración de SQLAlchemy.Este método toma como argumento la instancia de la aplicación Flask y vincula la configuración de SQLAlchemy con esta aplicación.\n",
    "\n",
    "🔸db.init_app(app)"
   ]
  },
  {
   "cell_type": "markdown",
   "metadata": {},
   "source": [
    "## Crear las tablas en la base de datos"
   ]
  },
  {
   "cell_type": "markdown",
   "metadata": {},
   "source": [
    "Finalmente, dentro de un contexto de aplicación de Flask (app_context()), ejecutamos db.create_all(). Este comando crea las tablas en la base de datos según los modelos definidos en models.py, solo si las tablas no existen aún. \n",
    "\n",
    "with app.app_context():\n",
    "    db.create_all() -> Este método es responsable de crear todas las tablas en la base de datos que estén definidas en tus modelos de SQLAlchemy\n",
    "\n",
    "Al asociar nuestra base de datos y la aplicación, creamos un mundo, hay ciertas operaciones como interacturar con la base de datos, que necesitan un \"entorno especial\" para funcionar, el entorno de aplicación es como entrar en ese entorno."
   ]
  },
  {
   "cell_type": "markdown",
   "metadata": {},
   "source": [
    "___________________________________________________________________________________________________________________________________________________________"
   ]
  },
  {
   "cell_type": "markdown",
   "metadata": {},
   "source": [
    "## App.py"
   ]
  },
  {
   "cell_type": "markdown",
   "metadata": {},
   "source": [
    "Para desarrollar una aplicación web con Flask, uno de los componentes clave es el archivo app.py. Este archivo actúa como el corazón de nuestra aplicación, gestionando las rutas, las solicitudes y las respuestas, así como la interacción con la base de datos a través de los modelos definidos."
   ]
  },
  {
   "cell_type": "markdown",
   "metadata": {},
   "source": [
    "## Importaciones necesarias"
   ]
  },
  {
   "cell_type": "markdown",
   "metadata": {},
   "source": [
    "Comenzamos importando todas las librerías necesarias para que nuestra aplicación funcione correctamente. Esto incluye componentes de Flask para manejar plantillas, solicitudes y redirecciones, así como las configuraciones de nuestra conexión y los modelos de base de datos.\n",
    "\n",
    "from flask import render_template, request, redirect, url_for\n",
    "from conexion import app, db\n",
    "from models import Alumnos, Calificaciones"
   ]
  },
  {
   "cell_type": "markdown",
   "metadata": {},
   "source": [
    "## Ruta Principal"
   ]
  },
  {
   "cell_type": "markdown",
   "metadata": {},
   "source": [
    "Este archivo es donde definimos las rutas de nuestra aplicación web. Cada ruta está asociada con una función que maneja las solicitudes a esa ruta. \n",
    "\n",
    "Una \"ruta\" se refiere a una URL específica dentro de tu aplicación web. Por ejemplo, en una URL como http://www.ejemplo.com/productos, la ruta sería /productos. \n",
    "\n",
    "Cada ruta puede estar diseñada para mostrar una página, iniciar una descarga, recibir datos de formulario, etc.\n",
    "\n",
    "En Flask, cada ruta debe estar asociada a una función porque esta función define lo que debe suceder cuando la ruta es accesada.\n",
    "\n",
    "En este caso, creamos la ruta principal de nuestra página que simplemente muestra una página de inicio."
   ]
  },
  {
   "cell_type": "markdown",
   "metadata": {},
   "source": [
    "@app.route('/')\n",
    "\n",
    "El símbolo @ en Python se utiliza para denotar un decorador. El término se refiere a \"decorar\" o añadir comportamiento adicional a objetos en tiempo de ejecución.\n",
    "\n",
    "En este caso, el decorador indica a Flask que la función definida justo debajo debe manejar las solicitudes a la URL especificada en el decorador, en este caso, la ruta raíz o '/'."
   ]
  },
  {
   "cell_type": "markdown",
   "metadata": {},
   "source": [
    "def index():\n",
    "    return render_template('index.html')\n",
    "\n",
    "🔸Renderizar: Significa preparar y enviar una respuesta al navegador del usuario."
   ]
  },
  {
   "cell_type": "markdown",
   "metadata": {},
   "source": [
    "En el contexto de trabajar con Flask, un framework de desarrollo web, colocamos nuestros archivos HTML en una carpeta llamada \"templates\". Esto se hace para organizar mejor nuestros archivos y permitir que Flask los maneje de manera eficiente, facilitando que nuestro sitio web pueda cargar diferentes páginas dinámicamente según lo que el usuario solicite. Esta estructura ayuda a mantener el sitio ordenado y facilita la actualización y mantenimiento del mismo."
   ]
  },
  {
   "cell_type": "markdown",
   "metadata": {},
   "source": [
    "## Presentando HTML"
   ]
  },
  {
   "cell_type": "markdown",
   "metadata": {},
   "source": [
    "Para crear páginas web utilizamos una herramienta llamada HTML, que significa Lenguaje Marcado de Hipertexto, el \"lenguaje marcado\" es una forma de dar instrucciones sobre cómo debe verse o comportarse un texto cuando se muestra en una pantalla, utiliza etiquetas especiales para organizar y formatear el contenido de la web, lo que nos permite definir estructuras como encabezados, párrafos, enlaces y más"
   ]
  },
  {
   "cell_type": "markdown",
   "metadata": {},
   "source": [
    "## ¿Por qué usamos HTML?"
   ]
  },
  {
   "cell_type": "markdown",
   "metadata": {},
   "source": [
    "Usamos HTML porque es el estándar universal para diseñar y estructurar páginas en Internet, asegurando que cualquier navegador web pueda entender cómo mostrar el contenido correctamente."
   ]
  },
  {
   "cell_type": "markdown",
   "metadata": {},
   "source": [
    "## HTML con Flask"
   ]
  },
  {
   "cell_type": "markdown",
   "metadata": {},
   "source": [
    "Como les había mencionado al comienzo, Flask tiene algunas convenciones ya establecidas sobre como organizar archivos o estructurar el código, este es uno de los casos, colocamos nuestros archivos HTML en una carpeta llamada \"templates\". Esto se hace para organizar mejor nuestros archivos y permitir que Flask los maneje de manera eficiente, facilitando que nuestro sitio web pueda cargar diferentes páginas dinámicamente según lo que el usuario solicite. "
   ]
  },
  {
   "cell_type": "markdown",
   "metadata": {},
   "source": [
    "## index.html"
   ]
  },
  {
   "cell_type": "markdown",
   "metadata": {},
   "source": [
    "Vamos a aprender cómo crear nuestro archivo index.html. Este archivo será la página principal de nuestro sitio web, desde el back ya hicimos que cuando esté se encuentre en la ruta \"/\", renderice o muestre, vista index.html"
   ]
  },
  {
   "cell_type": "markdown",
   "metadata": {},
   "source": [
    "Cuando escribimos ! y presionamos enter, se desencadena un atajo para generar el esqueleto o la estructura básica de un documento HTML. "
   ]
  },
  {
   "cell_type": "markdown",
   "metadata": {},
   "source": [
    "<!DOCTYPE html> -> Indica que el documento es un documento HTML5. Es necesario para asegurar que el navegador procese la página como HTML5.\n",
    "<html lang=\"en\"> -> Es el contenedor raíz de toda la página web y encierra todos los contenidos de la página, el atributo especifica el idioma principal\n",
    "<head> \n",
    "    Esta sección del documento contiene metadatos, es decir, datos sobre los datos en la página, que no se muestran directamente en la página web.\n",
    "    <meta charset=\"UTF-8\"> -> Define la codificación de caracteres utilizada para el documento, UTF-8\n",
    "    <meta name=\"viewport\" content=\"width=device-width, initial-scale=1.0\"> -> : Asegura que la página web es adaptable y se ve bien en todos los dispositivos\n",
    "    <title>Document</title> ->  Define el título de la página, que se muestra en la pestaña del navegador.\n",
    "</head>\n",
    "<body> ->  Contiene todo el contenido visible de la página\n",
    "    <h1>Holaaa</h1> -> Es una de las etiquetas de encabezado que puedes utilizar para definir los títulos o los encabezados principales de una página web.\n",
    "</body>\n",
    "</html>"
   ]
  },
  {
   "cell_type": "markdown",
   "metadata": {},
   "source": [
    "## Presentación de Jinja2"
   ]
  },
  {
   "cell_type": "markdown",
   "metadata": {},
   "source": [
    "Flask integra un motor de plantillas llamado Jinja2. Un motor de plantillas es una herramienta que permite crear documentos HTML dinámicos. Esto significa que podemos preparar una plantilla HTML que Jinja2 va llenar con datos que le pasemos desde el back cada vez que se genere una página."
   ]
  },
  {
   "cell_type": "markdown",
   "metadata": {},
   "source": [
    "Imaginen que están creando una aplicación web donde cada usuario ve su nombre en la página después de iniciar sesión. No sería práctico crear una página web separada para cada usuario. En lugar de eso, podemos crear una única plantilla HTML y decirle a Jinja2 que coloque el nombre del usuario en la parte del documento donde debe aparecer."
   ]
  },
  {
   "cell_type": "markdown",
   "metadata": {},
   "source": [
    "def index():\n",
    "    nombre = 'Clari'\n",
    "    return render_template('index.html', nombre = nombre)"
   ]
  },
  {
   "cell_type": "markdown",
   "metadata": {},
   "source": [
    "## Presentación del CRUD"
   ]
  },
  {
   "cell_type": "markdown",
   "metadata": {},
   "source": [
    "Después de configurar nuestra ruta principal en la aplicación Flask, el siguiente paso en el desarrollo de una aplicación web completa es aprender a implementar las operaciones de un CRUD. CRUD es un acrónimo para Crear, Leer, Actualizar y Eliminar (Create, Read, Update, Delete), que son las cuatro funciones básicas que se aplican a la manipulación de datos en muchas aplicaciones web"
   ]
  },
  {
   "cell_type": "markdown",
   "metadata": {},
   "source": [
    "## Métodos GET y POST"
   ]
  },
  {
   "cell_type": "markdown",
   "metadata": {},
   "source": [
    "Para realizar operaciones CRUD, debemos entender los métodos HTTP  que se utilizan comúnmente en el desarrollo web, especialmente GET y POST:\n",
    "\n",
    "GET: Se usa para solicitar datos del servidor.\n",
    "POST: Se utiliza para enviar datos al servidor."
   ]
  },
  {
   "cell_type": "markdown",
   "metadata": {},
   "source": [
    "## Ruta de Registro"
   ]
  },
  {
   "cell_type": "markdown",
   "metadata": {},
   "source": [
    "Ahora vamos a aprender cómo guardar un nuevo registro en nuestra base de datos. Este proceso implica capturar datos del usuario a través de un formulario y luego almacenar esos datos adecuadamente. Así, una vez que los usuarios están registrados, pueden iniciar sesión."
   ]
  },
  {
   "cell_type": "markdown",
   "metadata": {},
   "source": [
    "@app.route('/registrar', methods = ['POST', 'GET'])\n",
    "\n",
    "'''   methods -> Indica a Flask qué métodos HTTP son permitidos para esa ruta específica.Si no especificas el argumento methods, Flask asumirá por defecto que la ruta sólo acepta solicitudes GET, que es cuando un usuario accede a una página web. Se espera que los métodos HTTP sean especificados en mayúsculas. Esto se debe a que los métodos HTTP son definidos en mayúsculas en el protocolo HTTP '''\n",
    "\n",
    "def registrar(): # -> Creamos la función registrar\n",
    "\n",
    "    if request.method == 'POST': # ->  Verifica si la solicitud actual es un POST.\n",
    "\n",
    "        # Ahora, para acceder a los datos enviados a través del formulario: \n",
    "\n",
    "        nombre = request.form['nombre'] # -> request.form es una herramienta que facilita la recopilación y manejo de datos enviados a través de formularios web\n",
    "\n",
    "        # En request.form['clave'], 'clave' debe ser el nombre del campo de entrada del formulario HTML. Es crucial asegurarse de que los nombres en el HTML coincidan exactamente con los que usas en request.form\n",
    "\n",
    "        apellido = request.form['apellido']\n",
    "        cedula = request.form['cedula']\n",
    "        correo = request.form['correo']\n",
    "\n",
    "        datos_usuario = Usuarios(nombre, apellido, cedula, correo) # -> Creamos un objeto de la clase usuario con los datos obtenidos\n",
    "\n",
    "        db.session.add(datos_usuario) - # -> Programa el objeto datos_usuario para ser insertado en la base de datos cuando se ejecute la próxima transacción.\n",
    "\n",
    "        # Se refiere a la sesión de la base de datos, que en SQLAlchemy actúa como un contenedor para todas las operaciones que quieres realizar en la base de datos\n",
    "\n",
    "        db.session.commit() # -> Este método se utiliza para confirmar todas las operaciones que han sido registradas en la sesión. \n",
    "\n",
    "        session[\"usuario_id\"] = datos_usuario.id\n",
    "\n",
    "        # Esta línea guarda un dato específico del usuario en la sesión, en este caso, el id del usuario, que es un identificador único para cada usuario en la base de datos. datos_usuario es un objeto que representa un registro de usuario en la base de datos, y datos_usuario.id es el campo que contiene el ID único asignado a ese usuario.\n",
    "\n",
    "        return render_template('/cargar_notas.html')\n",
    "\n",
    "    return render_template('index.html')"
   ]
  },
  {
   "cell_type": "markdown",
   "metadata": {},
   "source": [
    "## Como funciona el request.form"
   ]
  },
  {
   "cell_type": "markdown",
   "metadata": {},
   "source": [
    "Cuando un formulario HTML es enviado a tu servidor Flask usando el método POST, los datos ingresados en los campos del formulario se empaquetan en el cuerpo de la solicitud HTTP y se envían al servidor.\n",
    "\n",
    "Flask captura estos datos y los proporciona en el objeto request.form."
   ]
  },
  {
   "cell_type": "markdown",
   "metadata": {},
   "source": [
    "## registrar.html"
   ]
  },
  {
   "cell_type": "markdown",
   "metadata": {},
   "source": [
    "<body>\n",
    "    Para definir un formulario usamos la etiqueta \"form\" que permite a los usuarios enviar información, debemos epecificar dos atributos\n",
    "\n",
    "    <form action=\"/registrar\" method=\"post\">\n",
    "\n",
    "        🔸 El atributo action especifica la URL a la que se enviarán los datos del formulario cuando se envíe. En este caso, los datos se enviarán a la ruta /registrar en el servidor. Esta ruta deberá estar configurada en el servidor para recibir y procesar los datos.\n",
    "\n",
    "        🔸El atributo method define el método HTTP que se utilizará para enviar el formulario.\n",
    "\n",
    "        <div> -> Es un contenedor genérico en HTML utilizado para agrupar bloques de contenido.\n",
    "\n",
    "            <label for=\"nombre\">Nombre</label> -> Define una etiqueta para un elemento de entrada de formulario, proporcionando una descripción clara de lo que es el campo. ; \"for\" especifica cuál es el elemento de formulario al que está asociada la etiqueta. \n",
    "\n",
    "            <input type=\"text\" id=\"nombre\" name=\"nombre\" required> -> Define un campo para que los usuarios ingresen texto.\n",
    "\n",
    "            🔸 El atributo type especifica el tipo de entrada que es el <input>. \n",
    "\n",
    "            🔸 El atributo id proporciona un identificador único para el elemento de entrada, que se utiliza para asociar la etiqueta <label> con este campo de entrada específico.\n",
    "\n",
    "            🔸El atributo name especifica el nombre del campo de entrada, que será utilizado como clave cuando se envíen los datos del formulario al servidor. \n",
    "\n",
    "            🔸required es un atributo booleano que indica que el campo es obligatorio para enviar el formulario.\n",
    "\n",
    "        </div>\n",
    "\n",
    "        <div>\n",
    "            <label for=\"apellido\">Apellido</label>\n",
    "            <input type=\"text\" id=\"apellido\" name=\"apellido\" required>\n",
    "        </div>\n",
    "        <div>\n",
    "            <label for=\"cedula\">Cedula</label>\n",
    "            <input type=\"text\" id=\"cedula\" name=\"cedula\" required>\n",
    "        </div>\n",
    "        <div>\n",
    "            <label for=\"correo\">Correo</label>\n",
    "            <input type=\"text\" id=\"correo\" name=\"correo\" required>\n",
    "        </div>\n",
    "\n",
    "        <input type=\"submit\" value=\"Aceptar\"> ->  Este atributo especifica que el <input> es un botón de envío. \n",
    "    </form>\n",
    "</body>\n",
    "</html>"
   ]
  },
  {
   "cell_type": "markdown",
   "metadata": {},
   "source": [
    "## Ruta de Iniciar Sesión"
   ]
  },
  {
   "cell_type": "markdown",
   "metadata": {},
   "source": [
    "Lo que debemos hacer dentro de nuestra función de iniciar sesión, debe ser verficar si el usuario ya existe dentro de nuestra base de datos, hay muchas maneras de hacer esto, esta manera no es la más segura pero sí la más simple, se trata de tomar uno de los datos (que pueda ser único), como lo es el correo o la célula y verificar si ya lo tenemos guardado en la base de datos, a través de una consulta"
   ]
  },
  {
   "cell_type": "markdown",
   "metadata": {},
   "source": [
    "@app.route('/inicio_sesion', methods=['POST','GET'])\n",
    "\n",
    "def inicio_sesion():\n",
    "    if request.method == 'POST':\n",
    "        cedula = request.form['cedula']\n",
    "        usuario_existe = Usuarios.query.filter(Usuarios.cedula == cedula).first()\n",
    "\n",
    "        # Usuario es una clase de modelo en SQLAlchemy que representa una tabla en nuestra base de datos\n",
    "        # .query permite comenzar una consulta asociada con el modelo Usuarios.\n",
    "        # .filter permite filtrar los resultados de la consulta basada en una condición.\n",
    "        # Usuarios.cedula == cedula -> Esta expresión compara cada valor en la columna cedula de la tabla Usuarios con el valor dado en la variable cedula.\n",
    "        # .first() es un método que se utiliza al final de una consulta SQLAlchemy para devolver el primer resultado de la consulta.\n",
    "        \n",
    "        if usuario_existe:\n",
    "            session[\"usuario_id\"] = usuario_existe.id\n",
    "            return render_template('ver_notas.html')\n",
    "        else:\n",
    "            mensaje_error = \"Usuario no registrado\"\n",
    "            return render_template(\"inicio_sesion.html\", mensaje_error=mensaje_error)\n",
    "\n",
    "    return render_template('inicio_sesion.html')"
   ]
  },
  {
   "cell_type": "markdown",
   "metadata": {},
   "source": [
    "## Ruta para cargar notas"
   ]
  },
  {
   "cell_type": "markdown",
   "metadata": {},
   "source": [
    "@app.route('/cargar_notas', methods = ['POST', 'GET'])\n",
    "def cargar_notas():\n",
    "\n",
    "    if request.method == 'POST':\n",
    "        fecha = request.form['fecha']\n",
    "        titulo = request.form['titulo']\n",
    "        descripción = request.form['descripción']\n",
    "\n",
    "        notas_registradas = Notas(fecha, titulo, descripción)\n",
    "\n",
    "        db.session.add(notas_registradas)\n",
    "        db.session.commit()\n",
    "\n",
    "        return render_template('cargar_notas.html')\n",
    "\n",
    "    return render_template('cargar_notas.html')"
   ]
  },
  {
   "cell_type": "markdown",
   "metadata": {},
   "source": [
    "## Ruta para ver las notas cargadas"
   ]
  },
  {
   "cell_type": "markdown",
   "metadata": {},
   "source": [
    "\n",
    "@app.route('/ver_notas', methods = ['POST','GET'])\n",
    "\n",
    "def ver_notas():\n",
    "\n",
    "    usuario_id = session.get(\"usuario_id\") # -> El método get es un método de diccionario en Python que se utiliza para recuperar un valor de un diccionario usando una clave\n",
    "\n",
    "    # Consultar la tabla \"Notas\" para obtener las notas del usuario\n",
    "\n",
    "    notas = Notas.query.filter_by(usuario_id=usuario_id).all()\n",
    "\n",
    "    return render_template(\"ver_notas.html\", notas=notas)"
   ]
  },
  {
   "cell_type": "markdown",
   "metadata": {},
   "source": [
    "## ver_notas.html"
   ]
  },
  {
   "cell_type": "markdown",
   "metadata": {},
   "source": [
    "Una característica clave de Jinja2 es su capacidad para manejar bucles dentro de las plantillas HTML.\n",
    "\n",
    "Podemos iterar sobre una colección de datos, como una lista de mensajes o usuarios, y generar dinámicamente partes de nuestra página HTML. Por ejemplo, podemos usar un bucle for para mostrar la lista de notas cargadas."
   ]
  },
  {
   "cell_type": "markdown",
   "metadata": {},
   "source": [
    "<body>\n",
    "\n",
    "    <table> -> Se utiliza para mostrar datos en formato de filas y columnas.\n",
    "    \n",
    "        <thead> -> Se utiliza para agrupar el contenido del encabezado. \n",
    "            <th>Fecha</th> -> Se utilizan para definir las celdas del encabezado\n",
    "            <th>Titulo</th>\n",
    "            <th>Descripción</th>\n",
    "        </thead>\n",
    "\n",
    "        <tbody> -> Cuerpo de la tabla\n",
    "\n",
    "            A continuación, vamos a ver cómo se implementa un bucle for en Jinja2 y cómo podemos utilizarlo para mejorar la interactividad y la personalización de nuestra aplicación web.\n",
    "\n",
    "            {% for nota in notas %}\n",
    "            <tr > - Representa una fila de celdas\n",
    "                <td>{{ nota.fecha }}</td> -> Celda de tabla donde se colocan datos individuales.\n",
    "                <td>{{ nota.titulo }}</td>\n",
    "                <td>{{ nota.descripción }}</td>\n",
    "\n",
    "                Por cada fila quiero que se muestren botones de actualizar y eliminar, para esto agrego una celda más, con una etiqueta que pueda contener ambos botones, como lo es el div.\n",
    "\n",
    "                <td>\n",
    "                    <div>\n",
    "\n",
    "                        Antes, al trabajar con formularios, ya teníamos definida la ruta a la que iban a ir los datos para ser procesados, en este caso no, por lo que, si queremos que nuestros botones realicen una acción que modifica los datos del servidor, como lo son actualizar y eliminar, debemos ponerlos dentro de una etiqueta \"form\".\n",
    "\n",
    "                        <form action=\"{{ url_for('actualizar_notas', nota_id=nota.id) }}\", method=\"get\" class=\"mr-6\"> \n",
    "                            \n",
    "                            El método get, se usa para solicitar la página de actualización de una nota específica.\n",
    "\n",
    "                            Esta es la URL a la que el formulario enviará los datos para la actualización. Aquí, se pasa dinámicamente el nota_id como argumento para identificar qué nota actualizar.\n",
    "\n",
    "                            url_for se usa para generar URLs dinámicamente. Imagina que tienes un control remoto con un botón que siempre sabe cómo encontrar y mostrar tu canal favorito, incluso si cambias de proveedor de cable. Así funciona url_for: siempre sabe cómo encontrar la dirección correcta en tu aplicación web, incluso si decides cambiar las rutas más tarde.\n",
    "\n",
    "                            Lo que necesitamos es una dirección a la que enviar los datos del formulario, no una página completa, y ahí es donde url_for es útil.\n",
    "\n",
    "                            <button type=\"submit\">Actualizar</button>\n",
    "                        </form>\n",
    "                        <form action=\"/eliminar_nota\" method=\"post\">\n",
    "                            <input type=\"hidden\" name=\"nota_id\" value=\"{{nota.id}}\">\n",
    "                            \n",
    "                            En HTML se usa para incluir un campo en un formulario que los usuarios no pueden ver ni modificar.\n",
    "\n",
    "                            No necesitamos mostrar el ID de la nota al usuario, pero sí necesitamos enviar esta información al servidor para que sepa cuál nota eliminar\n",
    "\n",
    "                            <button type=\"submit\">Eliminar</button>\n",
    "                        </form>\n",
    "                    </div>\n",
    "                </td>\n",
    "            </tr>\n",
    "            {% endfor %}\n",
    "        </tbody>\n",
    "    </table>\n",
    "</body> \n",
    "</html>"
   ]
  },
  {
   "cell_type": "markdown",
   "metadata": {},
   "source": [
    "## Ruta para actualizar notas"
   ]
  },
  {
   "cell_type": "markdown",
   "metadata": {},
   "source": [
    "@app.route('/actualizar_notas/<int:nota_id>', methods=['GET','POST'])\n",
    "\n",
    "<!-- <int:nota_id> -> Utiliza una variable de ruta (<int:nota_id>) que indica que esta parte de la URL debe ser un entero y se pasará a la función actualizar_notas como nota_id. Esto permite que la función reciba dinámicamente el ID de una nota específica que se necesita actualizar. -->\n",
    "\n",
    "def actualizar_notas(nota_id):\n",
    "    nota_a_actualizar = Notas.query.get(nota_id)\n",
    "\n",
    "    if request.method == 'POST':\n",
    "        fecha = request.form['fecha']\n",
    "        titulo = request.form['titulo']\n",
    "        descripción = request.form['descripción']\n",
    "\n",
    "        nota_a_actualizar.fecha = fecha\n",
    "        nota_a_actualizar.titulo = titulo\n",
    "        nota_a_actualizar.descripción = descripción\n",
    "\n",
    "        db.session.commit()\n",
    "\n",
    "        return redirect(url_for('ver_notas'))\n",
    "    \n",
    "        # render_template() se utiliza para enviar una página al cliente, mientras que redirect(url_for()) se utiliza para enviar al cliente a una página diferente.\n",
    "    \n",
    "    return render_template('actualizar_notas.html', nota_a_actualizar=nota_a_actualizar)\n"
   ]
  },
  {
   "cell_type": "markdown",
   "metadata": {},
   "source": [
    "# Ruta para eliminar notas"
   ]
  },
  {
   "cell_type": "markdown",
   "metadata": {},
   "source": [
    "@app.route('/eliminar_nota', methods = ['GET','POST'])\n",
    "\n",
    "def eliminar_nota():\n",
    "    \n",
    "    if request.method == 'POST':\n",
    "        id = request.form['nota_id']\n",
    "        nota_a_eliminar = Notas.query.filter_by(id=id).first()\n",
    "\n",
    "        db.session.delete(nota_a_eliminar)\n",
    "\n",
    "        # El método db.session.delete() es utilizado para eliminar registros de la base de datos.\n",
    "\n",
    "        db.session.commit()\n",
    "\n",
    "        return redirect(url_for('ver_notas'))"
   ]
  }
 ],
 "metadata": {
  "language_info": {
   "name": "python"
  }
 },
 "nbformat": 4,
 "nbformat_minor": 2
}
